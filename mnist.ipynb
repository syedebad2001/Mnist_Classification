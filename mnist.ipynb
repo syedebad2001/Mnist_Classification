{
 "cells": [
  {
   "cell_type": "code",
   "execution_count": null,
   "id": "308c3f74",
   "metadata": {},
   "outputs": [],
   "source": [
    "# loading the data "
   ]
  },
  {
   "cell_type": "code",
   "execution_count": 696,
   "id": "c93f1199",
   "metadata": {},
   "outputs": [],
   "source": [
    "from sklearn.datasets import fetch_openml\n",
    "import numpy as np \n",
    "import matplotlib.pyplot as plt \n",
    "\n"
   ]
  },
  {
   "cell_type": "code",
   "execution_count": 697,
   "id": "2078a6e3",
   "metadata": {},
   "outputs": [],
   "source": [
    "mnist=fetch_openml('mnist_784')"
   ]
  },
  {
   "cell_type": "code",
   "execution_count": 903,
   "id": "10283919",
   "metadata": {},
   "outputs": [],
   "source": [
    "x,y=mnist['data'],mnist['target']\n",
    "x=x[:3000]\n",
    "y=y[:3000]\n"
   ]
  },
  {
   "cell_type": "code",
   "execution_count": 904,
   "id": "d4c368bd",
   "metadata": {},
   "outputs": [],
   "source": [
    "#preprocessing for converting y into one hot encoded \n",
    "\n",
    "import tensorflow as tf\n",
    "from tensorflow.keras.utils import to_categorical\n",
    "\n",
    "\n",
    "y=y.astype(int)\n",
    "\n",
    "from sklearn.model_selection import train_test_split\n",
    "x,y=x.to_numpy(),y.to_numpy()\n",
    "\n",
    "\n",
    "y=to_categorical(y)\n",
    "\n",
    "\n",
    "\n",
    "X_train, X_test, y_train, y_test = train_test_split(x, y, test_size=0.2, random_state=42)\n"
   ]
  },
  {
   "cell_type": "code",
   "execution_count": 905,
   "id": "88a8caf8",
   "metadata": {},
   "outputs": [],
   "source": [
    "#makes it easier for deep learning \n",
    "\n",
    "X_train,X_test=X_train.T,X_test.T\n",
    "y_train=y_train.T\n",
    "y_test=y_test.T\n",
    "\n"
   ]
  },
  {
   "cell_type": "code",
   "execution_count": 906,
   "id": "394a428d",
   "metadata": {},
   "outputs": [],
   "source": [
    "def tanh(x):\n",
    "    return np.tanh(x)\n",
    "\n",
    "def deriv_tanh(x):\n",
    "    return (1 -  np.power(np.tanh(x), 2))\n",
    "\n",
    "\n",
    "def softmax(x):\n",
    "        exp_x=np.exp(x)\n",
    "\n",
    "        sum_expx=np.sum(exp_x,axis=0)\n",
    "        softmax_x=exp_x/sum_expx\n",
    "        return softmax_x\n",
    "def cost_func(out,y):\n",
    "    # num of observations \n",
    "#     print(y.shape)\n",
    "    m=y.shape[1]\n",
    "    # for multi class classification \n",
    "    cost=(-1/m)*(np.sum(y*np.log(out)))\n",
    "    return cost \n",
    "\n",
    "def forward_prop(X,neu_hid,W_M1,W_M2,b1,b2):\n",
    "    #initialize parameters\n",
    "\n",
    "    \n",
    "    Z1=np.dot(W_M1,X)+b1\n",
    "    A1=tanh(Z1)\n",
    "    \n",
    "    Z2=np.dot(W_M2,A1)+b2\n",
    "    A2=softmax(Z2)\n",
    "    \n",
    "    \n",
    "    forw_cache={\n",
    "        \"Z1\":Z1,\n",
    "        \"A1\":A1,\n",
    "        \"Z2\":Z2,\n",
    "        \"A2\":A2,\n",
    "        \"W1\":W_M1,\n",
    "        \"W2\":W_M2,\n",
    "        \"b1\":b1,\n",
    "        \"b2\":b2,\n",
    "        \"X\":X\n",
    "        \n",
    "    }\n",
    "    \n",
    "    return forw_cache \n",
    "\n",
    "def backward_prop(forw_cache,y):\n",
    "    w1=forw_cache['W1']\n",
    "    w2=forw_cache['W2']\n",
    "    b1=forw_cache['b1']\n",
    "    b2=forw_cache['b2']\n",
    "    \n",
    "  \n",
    "    a1=forw_cache['A1']\n",
    "    a2=forw_cache['A2']\n",
    "    x=forw_cache['X']\n",
    "    \n",
    "    m=x.shape[1]\n",
    "    dz2=a2-y    \n",
    "    dw2=(1/m)*np.dot(dz2,a1.T)\n",
    "    db2=(1/m)*(np.sum(dz2,axis=1,keepdims=True))\n",
    "    \n",
    "    \n",
    "    dz1=(1/m)*np.dot(w2.T,dz2)*deriv_tanh(a1)\n",
    "    dw1=(1/m)*np.dot(dz1,x.T)\n",
    "    db1=(1/m)*(np.sum(dz1,axis=1,keepdims=True))\n",
    "    \n",
    "    \n",
    "    gradients={\n",
    "        \"db1\":db1,\n",
    "        \"db2\":db2,\n",
    "        \"dw1\":dw1,\n",
    "        \"dw2\":dw2\n",
    "    }\n",
    "    return gradients\n",
    "    \n",
    "    \n",
    "    \n"
   ]
  },
  {
   "cell_type": "code",
   "execution_count": 907,
   "id": "5603a4a6",
   "metadata": {},
   "outputs": [],
   "source": [
    "#update params\n",
    "\n",
    "def update_params(forw_cache,gradients,learningrate):\n",
    "    w1=forw_cache['W1']\n",
    "    w2=forw_cache['W2']\n",
    "    b1=forw_cache['b1']\n",
    "    b2=forw_cache['b2']\n",
    "    \n",
    "    dw1=gradients[\"dw1\"]\n",
    "    dw2=gradients[\"dw2\"]\n",
    "    db1=gradients[\"db1\"]\n",
    "    db2=gradients[\"db2\"]\n",
    "\n",
    "    w1=w1-learningrate*dw1\n",
    "    w2=w2-learningrate*dw2\n",
    "    b1=b1-learningrate*db1\n",
    "    b2=b2-learningrate*db2\n",
    "    \n",
    "\n",
    "    parameters={\n",
    "        \"w1\":w1,\n",
    "        \"w2\":w2,\n",
    "        \"b2\":b2,\n",
    "        \"b1\":b1\n",
    "    }\n",
    "    return parameters\n"
   ]
  },
  {
   "cell_type": "code",
   "execution_count": 908,
   "id": "c4e414c4",
   "metadata": {},
   "outputs": [],
   "source": [
    "def model(x,y,n_h,L_R,itera):\n",
    "    n_x=x.shape[0]\n",
    "    n_y=y.shape[0]\n",
    "    cost_list=[]\n",
    "    m=x.shape[1]\n",
    "    b1=np.full((n_h,1),0.01)\n",
    "    b2=np.full((10,1),0.01)\n",
    "    W_M1=np.random.randn(n_h,28*28)*0.1\n",
    "    W_M2=np.random.randn(10, n_h)*0.1\n",
    "    \n",
    "    for i in range(itera):\n",
    "            \n",
    "        forw_cache=forward_prop(x,n_h,W_M1,W_M2,b1,b2)\n",
    "        \n",
    "        cost=cost_func(forw_cache['A2'],y)\n",
    "        \n",
    "        gradients=backward_prop(forw_cache,y)\n",
    "        \n",
    "        params=update_params(forw_cache,gradients,L_R)\n",
    "        \n",
    "        W_M1=params['w1']\n",
    "        W_M2=params['w2']\n",
    "        b1=params['b1']\n",
    "        b2=params['b2']\n",
    "        \n",
    "        cost_list.append(cost)\n",
    "        \n",
    "        if(i%10==0):\n",
    "            print(\"cost after\",i, \"iterations is\",cost)\n",
    "        \n",
    "    return params,cost_list\n",
    "\n",
    "\n"
   ]
  },
  {
   "cell_type": "code",
   "execution_count": 909,
   "id": "ff1ae23d",
   "metadata": {},
   "outputs": [
    {
     "name": "stdout",
     "output_type": "stream",
     "text": [
      "cost after 0 iterations is 5.755983473987241\n",
      "cost after 10 iterations is 1.0916781897213004\n",
      "cost after 20 iterations is 0.7248789764026987\n",
      "cost after 30 iterations is 0.5652005516724743\n",
      "cost after 40 iterations is 0.46730825817843824\n",
      "cost after 50 iterations is 0.39812907963565797\n",
      "cost after 60 iterations is 0.34552839989581224\n",
      "cost after 70 iterations is 0.3037723421392648\n",
      "cost after 80 iterations is 0.269678336043191\n",
      "cost after 90 iterations is 0.24127250710554735\n",
      "cost after 100 iterations is 0.2172310180659046\n",
      "cost after 110 iterations is 0.19665158971881563\n",
      "cost after 120 iterations is 0.17890733146923735\n",
      "cost after 130 iterations is 0.16349684185351682\n",
      "cost after 140 iterations is 0.1500106591682412\n",
      "cost after 150 iterations is 0.13813499150078543\n",
      "cost after 160 iterations is 0.12763565352062795\n",
      "cost after 170 iterations is 0.11832124143176162\n",
      "cost after 180 iterations is 0.11002588119014647\n",
      "cost after 190 iterations is 0.10261179144398316\n",
      "cost after 200 iterations is 0.095964840165635\n",
      "cost after 210 iterations is 0.08998839349433553\n",
      "cost after 220 iterations is 0.08459937036573648\n",
      "cost after 230 iterations is 0.07972599336381736\n",
      "cost after 240 iterations is 0.07530626046895374\n",
      "cost after 250 iterations is 0.07128669354408997\n",
      "cost after 260 iterations is 0.06762118276307788\n",
      "cost after 270 iterations is 0.0642698876385248\n",
      "cost after 280 iterations is 0.061198239336308975\n",
      "cost after 290 iterations is 0.058376106482015404\n",
      "cost after 300 iterations is 0.05577716533389712\n",
      "cost after 310 iterations is 0.05337846448649247\n",
      "cost after 320 iterations is 0.051160057114520235\n",
      "cost after 330 iterations is 0.04910447642364686\n",
      "cost after 340 iterations is 0.04719607955292035\n",
      "cost after 350 iterations is 0.04542064078201166\n",
      "cost after 360 iterations is 0.043765300309058446\n",
      "cost after 370 iterations is 0.04221859392062373\n",
      "cost after 380 iterations is 0.040770395686515255\n",
      "cost after 390 iterations is 0.039411790251986246\n"
     ]
    }
   ],
   "source": [
    "iterations=400\n",
    "n_h=1000\n",
    "L_R=0.1\n",
    "Params,cost_list=model(X_train,y_train,n_h,L_R,iterations)\n"
   ]
  },
  {
   "cell_type": "code",
   "execution_count": 910,
   "id": "56ff0a76",
   "metadata": {},
   "outputs": [
    {
     "data": {
      "image/png": "[encoded data removed]",
      "text/plain": [
       "<Figure size 640x480 with 1 Axes>"
      ]
     },
     "metadata": {},
     "output_type": "display_data"
    }
   ],
   "source": [
    "t=np.arange(0,iterations)\n",
    "plt.plot(t,cost_list)\n",
    "plt.show()"
   ]
  },
  {
   "cell_type": "code",
   "execution_count": 911,
   "id": "2f9e1d47",
   "metadata": {},
   "outputs": [],
   "source": [
    "W_M1=Params['w1']\n",
    "W_M2=Params['w2']\n",
    "b1=Params['b1']\n",
    "b2=Params['b2']\n",
    "\n"
   ]
  },
  {
   "cell_type": "code",
   "execution_count": 912,
   "id": "863f615c",
   "metadata": {},
   "outputs": [],
   "source": [
    "\n",
    "f_c=forward_prop(X_test,n_h,W_M1,W_M2,b1,b2)\n",
    "a_out=f_c['A2']\n"
   ]
  },
  {
   "cell_type": "code",
   "execution_count": 913,
   "id": "37899035",
   "metadata": {},
   "outputs": [],
   "source": [
    "a_out=np.argmax(a_out,0)\n",
    "\n",
    "y_out=np.argmax(y_test,0)"
   ]
  },
  {
   "cell_type": "code",
   "execution_count": 914,
   "id": "0024279c",
   "metadata": {},
   "outputs": [
    {
     "data": {
      "text/plain": [
       "array([6, 6, 5, 1, 1, 6, 4, 6, 1, 9, 4, 7, 7, 4, 1, 9, 4, 2, 2, 4, 3, 4,\n",
       "       5, 1, 9, 3, 3, 3, 0, 3, 9, 1, 4, 2, 3, 0, 0, 9, 3, 5, 4, 0, 8, 9,\n",
       "       3, 7, 8, 1, 3, 0, 0, 5, 3, 2, 1, 8, 0, 9, 8, 7, 4, 0, 4, 5, 0, 0,\n",
       "       2, 7, 6, 7, 6, 1, 2, 3, 1, 3, 2, 4, 5, 8, 4, 6, 6, 9, 8, 8, 0, 2,\n",
       "       7, 7, 3, 4, 5, 6, 8, 1, 6, 6, 1, 0, 8, 9, 8, 1, 7, 2, 5, 6, 6, 8,\n",
       "       7, 6, 7, 1, 3, 3, 5, 4, 9, 3, 6, 9, 9, 7, 1, 3, 5, 5, 1, 0, 2, 2,\n",
       "       4, 0, 9, 7, 7, 4, 8, 2, 0, 0, 4, 9, 1, 1, 4, 6, 1, 1, 4, 9, 1, 1,\n",
       "       4, 0, 1, 5, 2, 7, 6, 2, 0, 2, 5, 9, 1, 7, 9, 8, 0, 3, 0, 8, 7, 1,\n",
       "       8, 8, 1, 7, 5, 9, 1, 6, 1, 2, 0, 1, 3, 5, 9, 2, 8, 7, 9, 2, 8, 6,\n",
       "       5, 6, 5, 4, 1, 4, 9, 8, 1, 6, 7, 4, 6, 1, 5, 1, 7, 9, 6, 4, 8, 7,\n",
       "       1, 6, 1, 8, 7, 2, 4, 3, 8, 0, 5, 1, 7, 3, 4, 1, 2, 9, 4, 3, 2, 8,\n",
       "       8, 0, 7, 1, 1, 3, 6, 3, 1, 2, 5, 4, 2, 2, 0, 8, 8, 8, 5, 5, 1, 0,\n",
       "       6, 4, 3, 1, 3, 3, 4, 7, 5, 1, 9, 7, 8, 1, 7, 9, 3, 0, 9, 2, 3, 0,\n",
       "       3, 0, 9, 7, 5, 4, 6, 7, 5, 1, 0, 8, 0, 4, 3, 3, 6, 6, 0, 9, 7, 3,\n",
       "       3, 7, 5, 7, 2, 4, 3, 6, 5, 8, 4, 2, 9, 5, 6, 3, 9, 6, 5, 8, 1, 4,\n",
       "       9, 0, 4, 9, 0, 2, 5, 2, 1, 2, 3, 8, 8, 5, 3, 8, 9, 8, 6, 7, 3, 0,\n",
       "       0, 6, 7, 2, 0, 3, 1, 3, 7, 1, 9, 4, 4, 3, 5, 4, 0, 4, 2, 4, 9, 8,\n",
       "       1, 8, 7, 0, 0, 1, 7, 4, 4, 6, 1, 0, 6, 2, 8, 3, 7, 8, 9, 5, 7, 5,\n",
       "       1, 5, 4, 0, 3, 1, 9, 8, 3, 6, 2, 7, 1, 5, 7, 9, 6, 2, 1, 3, 2, 3,\n",
       "       0, 2, 6, 3, 9, 1, 6, 7, 2, 8, 5, 8, 8, 7, 5, 1, 1, 5, 4, 9, 8, 9,\n",
       "       3, 8, 6, 1, 4, 1, 7, 0, 7, 9, 5, 2, 2, 9, 6, 9, 2, 8, 5, 9, 0, 9,\n",
       "       9, 9, 7, 9, 8, 0, 9, 4, 2, 4, 0, 4, 6, 1, 8, 3, 7, 6, 9, 3, 9, 8,\n",
       "       4, 4, 0, 7, 1, 6, 8, 2, 7, 1, 6, 9, 8, 9, 6, 7, 4, 5, 0, 1, 6, 1,\n",
       "       0, 9, 1, 9, 8, 5, 6, 9, 9, 8, 6, 0, 5, 3, 4, 4, 7, 4, 0, 9, 5, 3,\n",
       "       9, 8, 4, 6, 9, 2, 7, 7, 5, 7, 6, 6, 2, 4, 6, 3, 3, 7, 1, 8, 3, 0,\n",
       "       5, 9, 6, 4, 0, 6, 9, 9, 2, 3, 2, 6, 7, 0, 5, 2, 4, 1, 2, 4, 1, 3,\n",
       "       7, 6, 3, 8, 3, 6, 5, 2, 0, 1, 1, 5, 7, 5, 4, 0, 1, 1, 8, 6, 3, 9,\n",
       "       9, 1, 3, 7, 3, 6], dtype=int64)"
      ]
     },
     "execution_count": 914,
     "metadata": {},
     "output_type": "execute_result"
    }
   ],
   "source": [
    "# labelled test data\n",
    "y_out"
   ]
  },
  {
   "cell_type": "code",
   "execution_count": 915,
   "id": "6a60dedc",
   "metadata": {},
   "outputs": [
    {
     "data": {
      "text/plain": [
       "array([6, 6, 5, 1, 1, 6, 4, 6, 1, 9, 4, 7, 1, 4, 1, 9, 4, 2, 5, 7, 3, 4,\n",
       "       5, 1, 9, 3, 3, 3, 0, 2, 9, 1, 8, 2, 3, 0, 0, 9, 3, 5, 4, 7, 8, 9,\n",
       "       3, 7, 2, 1, 3, 0, 0, 5, 3, 2, 1, 5, 0, 9, 8, 7, 4, 0, 9, 5, 0, 0,\n",
       "       2, 7, 6, 7, 6, 1, 2, 3, 1, 3, 2, 4, 3, 8, 4, 6, 6, 9, 8, 8, 0, 2,\n",
       "       7, 7, 3, 4, 5, 6, 8, 1, 6, 6, 1, 0, 8, 9, 1, 1, 7, 2, 5, 6, 6, 8,\n",
       "       7, 6, 7, 1, 3, 1, 5, 4, 9, 3, 6, 9, 9, 7, 1, 3, 5, 4, 1, 0, 2, 2,\n",
       "       2, 5, 9, 7, 7, 4, 8, 8, 0, 0, 4, 4, 1, 1, 4, 6, 1, 1, 3, 7, 1, 1,\n",
       "       4, 0, 1, 5, 2, 7, 6, 2, 8, 2, 5, 3, 1, 7, 9, 8, 0, 5, 0, 8, 7, 1,\n",
       "       8, 8, 1, 7, 5, 9, 1, 6, 1, 0, 0, 1, 3, 5, 9, 2, 8, 7, 9, 2, 3, 6,\n",
       "       5, 8, 3, 4, 1, 4, 9, 8, 1, 6, 7, 4, 6, 1, 5, 1, 7, 8, 6, 4, 9, 4,\n",
       "       1, 6, 1, 8, 9, 2, 4, 3, 8, 0, 5, 1, 7, 3, 4, 1, 2, 9, 9, 3, 2, 8,\n",
       "       1, 0, 7, 1, 1, 3, 6, 3, 1, 2, 5, 4, 2, 2, 0, 8, 8, 8, 5, 5, 1, 0,\n",
       "       6, 4, 3, 1, 3, 3, 4, 7, 5, 1, 9, 7, 3, 1, 7, 9, 3, 0, 9, 2, 3, 0,\n",
       "       3, 0, 9, 7, 5, 4, 6, 4, 5, 1, 0, 0, 0, 4, 3, 3, 6, 6, 0, 9, 7, 3,\n",
       "       3, 7, 5, 7, 3, 0, 3, 6, 5, 5, 4, 2, 9, 5, 6, 6, 9, 6, 5, 8, 1, 4,\n",
       "       9, 0, 4, 4, 5, 2, 4, 9, 1, 2, 3, 8, 8, 5, 3, 8, 9, 8, 6, 7, 5, 0,\n",
       "       0, 6, 7, 2, 6, 3, 1, 3, 7, 1, 9, 4, 5, 3, 5, 4, 0, 4, 2, 4, 9, 8,\n",
       "       3, 8, 7, 8, 0, 1, 7, 4, 4, 6, 1, 5, 6, 2, 3, 3, 7, 8, 9, 4, 7, 5,\n",
       "       1, 5, 4, 0, 3, 1, 9, 8, 3, 6, 3, 7, 1, 5, 9, 9, 6, 2, 1, 3, 2, 3,\n",
       "       0, 2, 6, 3, 9, 2, 6, 7, 2, 8, 3, 0, 8, 7, 5, 1, 1, 5, 4, 9, 8, 9,\n",
       "       3, 8, 6, 1, 4, 1, 7, 0, 1, 9, 5, 3, 2, 9, 6, 9, 2, 8, 5, 7, 0, 9,\n",
       "       9, 9, 7, 9, 8, 0, 9, 4, 3, 4, 0, 4, 6, 1, 8, 3, 7, 6, 9, 3, 9, 8,\n",
       "       4, 4, 0, 7, 8, 4, 8, 2, 7, 1, 0, 7, 5, 9, 6, 7, 1, 4, 0, 1, 6, 1,\n",
       "       0, 9, 1, 4, 8, 1, 6, 4, 9, 8, 6, 0, 5, 5, 9, 4, 7, 4, 0, 9, 5, 3,\n",
       "       9, 8, 4, 6, 9, 2, 7, 7, 5, 7, 6, 6, 2, 4, 6, 3, 3, 7, 1, 8, 8, 0,\n",
       "       5, 9, 6, 4, 8, 6, 9, 9, 2, 3, 2, 6, 7, 0, 5, 8, 4, 1, 2, 4, 1, 3,\n",
       "       7, 6, 3, 8, 0, 6, 2, 2, 0, 1, 1, 5, 7, 5, 4, 0, 1, 1, 8, 6, 3, 9,\n",
       "       9, 1, 3, 7, 3, 6], dtype=int64)"
      ]
     },
     "execution_count": 915,
     "metadata": {},
     "output_type": "execute_result"
    }
   ],
   "source": [
    "#predicted from testdata\n",
    "a_out"
   ]
  },
  {
   "cell_type": "code",
   "execution_count": 916,
   "id": "e7dbae51",
   "metadata": {},
   "outputs": [],
   "source": [
    "lis=[a_out==y_out]"
   ]
  },
  {
   "cell_type": "code",
   "execution_count": 917,
   "id": "81def833",
   "metadata": {},
   "outputs": [
    {
     "name": "stdout",
     "output_type": "stream",
     "text": [
      "accuracy : 87.16666666666667 %\n"
     ]
    }
   ],
   "source": [
    "#calculation of accuracy\n",
    "\n",
    "count=0\n",
    "for char in lis:\n",
    "    for i in char:\n",
    "        if i==True:\n",
    "            count+=1\n",
    "print(\"accuracy :\",count/X_test.shape[1]*100,\"%\")"
   ]
  },
  {
   "cell_type": "code",
   "execution_count": 921,
   "id": "05f6ecc9",
   "metadata": {},
   "outputs": [
    {
     "data": {
      "image/png": "[encoded data removed]",
      "text/plain": [
       "<Figure size 640x480 with 1 Axes>"
      ]
     },
     "metadata": {},
     "output_type": "display_data"
    },
    {
     "name": "stdout",
     "output_type": "stream",
     "text": [
      "prediction : [4]\n"
     ]
    }
   ],
   "source": [
    "#printing the image and showing its prediction\n",
    "import random\n",
    "\n",
    "idx=random.randint(0,X_test.shape[1])\n",
    "plt.imshow(X_test[:,idx].reshape(28,28),cmap='gray')\n",
    "plt.show()\n",
    "\n",
    "instance=X_test[:,idx].reshape(28*28,1)\n",
    "f_c=forward_prop(instance,n_h,W_M1,W_M2,b1,b2)\n",
    "a_out=f_c['A2']\n",
    "\n",
    "num=np.argmax(a_out,0)\n",
    "\n",
    "print(\"prediction :\", num)"
   ]
  },
  {
   "cell_type": "code",
   "execution_count": null,
   "id": "a5b0cd18",
   "metadata": {},
   "outputs": [],
   "source": []
  }
 ],
 "metadata": {
  "kernelspec": {
   "display_name": "Python 3 (ipykernel)",
   "language": "python",
   "name": "python3"
  },
  "language_info": {
   "codemirror_mode": {
    "name": "ipython",
    "version": 3
   },
   "file_extension": ".py",
   "mimetype": "text/x-python",
   "name": "python",
   "nbconvert_exporter": "python",
   "pygments_lexer": "ipython3",
   "version": "3.9.13"
  }
 },
 "nbformat": 4,
 "nbformat_minor": 5
}
